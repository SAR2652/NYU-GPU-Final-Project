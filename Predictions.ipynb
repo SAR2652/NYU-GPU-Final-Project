{
 "cells": [
  {
   "cell_type": "code",
   "execution_count": 41,
   "id": "1e767882",
   "metadata": {},
   "outputs": [],
   "source": [
    "import numpy as np\n",
    "import pandas as pd\n",
    "import matplotlib.pyplot as plt\n",
    "import seaborn as sns\n",
    "from sklearn.preprocessing import StandardScaler, MinMaxScaler, RobustScaler\n",
    "from sklearn.model_selection import train_test_split\n",
    "from sklearn.linear_model import LinearRegression, Lasso, Ridge\n",
    "from sklearn.svm import LinearSVR, SVR\n",
    "from sklearn.metrics import mean_squared_error"
   ]
  },
  {
   "cell_type": "code",
   "execution_count": 3,
   "id": "ebb2f4c0",
   "metadata": {},
   "outputs": [
    {
     "data": {
      "text/html": [
       "<div>\n",
       "<style scoped>\n",
       "    .dataframe tbody tr th:only-of-type {\n",
       "        vertical-align: middle;\n",
       "    }\n",
       "\n",
       "    .dataframe tbody tr th {\n",
       "        vertical-align: top;\n",
       "    }\n",
       "\n",
       "    .dataframe thead th {\n",
       "        text-align: right;\n",
       "    }\n",
       "</style>\n",
       "<table border=\"1\" class=\"dataframe\">\n",
       "  <thead>\n",
       "    <tr style=\"text-align: right;\">\n",
       "      <th></th>\n",
       "      <th>Dimensions</th>\n",
       "      <th>Blocks</th>\n",
       "      <th>Threads</th>\n",
       "      <th>Time</th>\n",
       "      <th>Speedup</th>\n",
       "      <th>Device Name</th>\n",
       "      <th>Compute Capability</th>\n",
       "      <th>Total Global Memory</th>\n",
       "      <th>Shared Memory per Block</th>\n",
       "      <th>Registers per Block</th>\n",
       "      <th>...</th>\n",
       "      <th>Concurrent Kernels</th>\n",
       "      <th>float</th>\n",
       "      <th>unsigned_int</th>\n",
       "      <th>int</th>\n",
       "      <th>num_blocks</th>\n",
       "      <th>num_grid</th>\n",
       "      <th>threads</th>\n",
       "      <th>cudaMalloc</th>\n",
       "      <th>cudaMemcpy(</th>\n",
       "      <th>cudaFree</th>\n",
       "    </tr>\n",
       "  </thead>\n",
       "  <tbody>\n",
       "    <tr>\n",
       "      <th>0</th>\n",
       "      <td>2</td>\n",
       "      <td>1</td>\n",
       "      <td>1</td>\n",
       "      <td>0.09</td>\n",
       "      <td>1.000</td>\n",
       "      <td>NVIDIA GeForce GTX TITAN Black</td>\n",
       "      <td>3.5</td>\n",
       "      <td>6229696.0</td>\n",
       "      <td>49152.0</td>\n",
       "      <td>65536.0</td>\n",
       "      <td>...</td>\n",
       "      <td>1.0</td>\n",
       "      <td>28</td>\n",
       "      <td>0</td>\n",
       "      <td>27</td>\n",
       "      <td>1</td>\n",
       "      <td>0</td>\n",
       "      <td>10</td>\n",
       "      <td>3</td>\n",
       "      <td>4</td>\n",
       "      <td>3</td>\n",
       "    </tr>\n",
       "    <tr>\n",
       "      <th>1</th>\n",
       "      <td>2</td>\n",
       "      <td>1</td>\n",
       "      <td>2</td>\n",
       "      <td>0.09</td>\n",
       "      <td>1.000</td>\n",
       "      <td>NVIDIA GeForce GTX TITAN Black</td>\n",
       "      <td>3.5</td>\n",
       "      <td>6229696.0</td>\n",
       "      <td>49152.0</td>\n",
       "      <td>65536.0</td>\n",
       "      <td>...</td>\n",
       "      <td>1.0</td>\n",
       "      <td>28</td>\n",
       "      <td>0</td>\n",
       "      <td>27</td>\n",
       "      <td>1</td>\n",
       "      <td>0</td>\n",
       "      <td>10</td>\n",
       "      <td>3</td>\n",
       "      <td>4</td>\n",
       "      <td>3</td>\n",
       "    </tr>\n",
       "    <tr>\n",
       "      <th>2</th>\n",
       "      <td>2</td>\n",
       "      <td>1</td>\n",
       "      <td>3</td>\n",
       "      <td>0.09</td>\n",
       "      <td>1.000</td>\n",
       "      <td>NVIDIA GeForce GTX TITAN Black</td>\n",
       "      <td>3.5</td>\n",
       "      <td>6229696.0</td>\n",
       "      <td>49152.0</td>\n",
       "      <td>65536.0</td>\n",
       "      <td>...</td>\n",
       "      <td>1.0</td>\n",
       "      <td>28</td>\n",
       "      <td>0</td>\n",
       "      <td>27</td>\n",
       "      <td>1</td>\n",
       "      <td>0</td>\n",
       "      <td>10</td>\n",
       "      <td>3</td>\n",
       "      <td>4</td>\n",
       "      <td>3</td>\n",
       "    </tr>\n",
       "    <tr>\n",
       "      <th>3</th>\n",
       "      <td>2</td>\n",
       "      <td>1</td>\n",
       "      <td>4</td>\n",
       "      <td>0.09</td>\n",
       "      <td>1.000</td>\n",
       "      <td>NVIDIA GeForce GTX TITAN Black</td>\n",
       "      <td>3.5</td>\n",
       "      <td>6229696.0</td>\n",
       "      <td>49152.0</td>\n",
       "      <td>65536.0</td>\n",
       "      <td>...</td>\n",
       "      <td>1.0</td>\n",
       "      <td>28</td>\n",
       "      <td>0</td>\n",
       "      <td>27</td>\n",
       "      <td>1</td>\n",
       "      <td>0</td>\n",
       "      <td>10</td>\n",
       "      <td>3</td>\n",
       "      <td>4</td>\n",
       "      <td>3</td>\n",
       "    </tr>\n",
       "    <tr>\n",
       "      <th>4</th>\n",
       "      <td>2</td>\n",
       "      <td>1</td>\n",
       "      <td>5</td>\n",
       "      <td>0.08</td>\n",
       "      <td>1.125</td>\n",
       "      <td>NVIDIA GeForce GTX TITAN Black</td>\n",
       "      <td>3.5</td>\n",
       "      <td>6229696.0</td>\n",
       "      <td>49152.0</td>\n",
       "      <td>65536.0</td>\n",
       "      <td>...</td>\n",
       "      <td>1.0</td>\n",
       "      <td>28</td>\n",
       "      <td>0</td>\n",
       "      <td>27</td>\n",
       "      <td>1</td>\n",
       "      <td>0</td>\n",
       "      <td>10</td>\n",
       "      <td>3</td>\n",
       "      <td>4</td>\n",
       "      <td>3</td>\n",
       "    </tr>\n",
       "  </tbody>\n",
       "</table>\n",
       "<p>5 rows × 37 columns</p>\n",
       "</div>"
      ],
      "text/plain": [
       "   Dimensions  Blocks  Threads  Time  Speedup                     Device Name  \\\n",
       "0           2       1        1  0.09    1.000  NVIDIA GeForce GTX TITAN Black   \n",
       "1           2       1        2  0.09    1.000  NVIDIA GeForce GTX TITAN Black   \n",
       "2           2       1        3  0.09    1.000  NVIDIA GeForce GTX TITAN Black   \n",
       "3           2       1        4  0.09    1.000  NVIDIA GeForce GTX TITAN Black   \n",
       "4           2       1        5  0.08    1.125  NVIDIA GeForce GTX TITAN Black   \n",
       "\n",
       "   Compute Capability  Total Global Memory  Shared Memory per Block  \\\n",
       "0                 3.5            6229696.0                  49152.0   \n",
       "1                 3.5            6229696.0                  49152.0   \n",
       "2                 3.5            6229696.0                  49152.0   \n",
       "3                 3.5            6229696.0                  49152.0   \n",
       "4                 3.5            6229696.0                  49152.0   \n",
       "\n",
       "   Registers per Block  ...  Concurrent Kernels  float  unsigned_int  int  \\\n",
       "0              65536.0  ...                 1.0     28             0   27   \n",
       "1              65536.0  ...                 1.0     28             0   27   \n",
       "2              65536.0  ...                 1.0     28             0   27   \n",
       "3              65536.0  ...                 1.0     28             0   27   \n",
       "4              65536.0  ...                 1.0     28             0   27   \n",
       "\n",
       "   num_blocks  num_grid  threads  cudaMalloc  cudaMemcpy(  cudaFree  \n",
       "0           1         0       10           3            4         3  \n",
       "1           1         0       10           3            4         3  \n",
       "2           1         0       10           3            4         3  \n",
       "3           1         0       10           3            4         3  \n",
       "4           1         0       10           3            4         3  \n",
       "\n",
       "[5 rows x 37 columns]"
      ]
     },
     "execution_count": 3,
     "metadata": {},
     "output_type": "execute_result"
    }
   ],
   "source": [
    "df = pd.read_csv('joint_mm_va.csv')\n",
    "df.head()"
   ]
  },
  {
   "cell_type": "code",
   "execution_count": 4,
   "id": "1fdc035e",
   "metadata": {},
   "outputs": [],
   "source": [
    "y = df['Speedup'].values\n",
    "df.drop(['Speedup'], axis = 1, inplace = True)"
   ]
  },
  {
   "cell_type": "code",
   "execution_count": 5,
   "id": "e135cd3b",
   "metadata": {},
   "outputs": [
    {
     "name": "stdout",
     "output_type": "stream",
     "text": [
      "<class 'pandas.core.frame.DataFrame'>\n",
      "RangeIndex: 5151 entries, 0 to 5150\n",
      "Data columns (total 36 columns):\n",
      " #   Column                              Non-Null Count  Dtype  \n",
      "---  ------                              --------------  -----  \n",
      " 0   Dimensions                          5151 non-null   int64  \n",
      " 1   Blocks                              5151 non-null   int64  \n",
      " 2   Threads                             5151 non-null   int64  \n",
      " 3   Time                                5151 non-null   float64\n",
      " 4   Device Name                         5151 non-null   object \n",
      " 5   Compute Capability                  5151 non-null   float64\n",
      " 6   Total Global Memory                 5151 non-null   float64\n",
      " 7   Shared Memory per Block             5151 non-null   float64\n",
      " 8   Registers per Block                 5151 non-null   float64\n",
      " 9   Warp Size                           5151 non-null   float64\n",
      " 10  Maximum Threads per Block           5151 non-null   float64\n",
      " 11  Thread Dimension Z                  5151 non-null   float64\n",
      " 12  Thread Dimension Y                  5151 non-null   float64\n",
      " 13  Thread Dimension X                  5151 non-null   float64\n",
      " 14  Grid Size Z                         5151 non-null   float64\n",
      " 15  Grid Size Y                         5151 non-null   float64\n",
      " 16  Grid Size X                         5151 non-null   float64\n",
      " 17  Clock Rate                          5151 non-null   float64\n",
      " 18  Total Constant Memory               5151 non-null   float64\n",
      " 19  Multiprocessor Count                5151 non-null   float64\n",
      " 20  integrated                          5151 non-null   float64\n",
      " 21  Asynchronous Engine Count           5151 non-null   float64\n",
      " 22  Memory Bus Width                    5151 non-null   float64\n",
      " 23  Memory Clock Rate                   5151 non-null   float64\n",
      " 24  L2 Cache Size                       5151 non-null   float64\n",
      " 25  Maximum Threads per Multiprocessor  5151 non-null   float64\n",
      " 26  Concurrent Kernels                  5151 non-null   float64\n",
      " 27  float                               5151 non-null   int64  \n",
      " 28  unsigned_int                        5151 non-null   int64  \n",
      " 29  int                                 5151 non-null   int64  \n",
      " 30  num_blocks                          5151 non-null   int64  \n",
      " 31  num_grid                            5151 non-null   int64  \n",
      " 32  threads                             5151 non-null   int64  \n",
      " 33  cudaMalloc                          5151 non-null   int64  \n",
      " 34  cudaMemcpy(                         5151 non-null   int64  \n",
      " 35  cudaFree                            5151 non-null   int64  \n",
      "dtypes: float64(23), int64(12), object(1)\n",
      "memory usage: 1.4+ MB\n"
     ]
    }
   ],
   "source": [
    "df.info()"
   ]
  },
  {
   "cell_type": "code",
   "execution_count": 7,
   "id": "299bb158",
   "metadata": {},
   "outputs": [
    {
     "data": {
      "text/plain": [
       "['NVIDIA GeForce GTX TITAN Black']"
      ]
     },
     "execution_count": 7,
     "metadata": {},
     "output_type": "execute_result"
    }
   ],
   "source": [
    "df['Device Name'].unique().tolist()"
   ]
  },
  {
   "cell_type": "code",
   "execution_count": 39,
   "id": "ac6839c5",
   "metadata": {},
   "outputs": [
    {
     "name": "stderr",
     "output_type": "stream",
     "text": [
      "/opt/homebrew/Caskroom/miniforge/base/envs/ml_env/lib/python3.9/site-packages/seaborn/distributions.py:2619: FutureWarning: `distplot` is a deprecated function and will be removed in a future version. Please adapt your code to use either `displot` (a figure-level function with similar flexibility) or `histplot` (an axes-level function for histograms).\n",
      "  warnings.warn(msg, FutureWarning)\n"
     ]
    },
    {
     "data": {
      "text/plain": [
       "<AxesSubplot:ylabel='Density'>"
      ]
     },
     "execution_count": 39,
     "metadata": {},
     "output_type": "execute_result"
    },
    {
     "data": {
      "image/png": "[encoded data removed]",
      "text/plain": [
       "<Figure size 432x288 with 1 Axes>"
      ]
     },
     "metadata": {
      "needs_background": "light"
     },
     "output_type": "display_data"
    }
   ],
   "source": [
    "sns.distplot(np.log1p(y))"
   ]
  },
  {
   "cell_type": "code",
   "execution_count": 8,
   "id": "1d756995",
   "metadata": {},
   "outputs": [],
   "source": [
    "X = df.drop(['Device Name'], axis = 1)"
   ]
  },
  {
   "cell_type": "code",
   "execution_count": 9,
   "id": "da85d414",
   "metadata": {},
   "outputs": [
    {
     "data": {
      "text/plain": [
       "Index(['Dimensions', 'Blocks', 'Threads', 'Time', 'Compute Capability',\n",
       "       'Total Global Memory', 'Shared Memory per Block', 'Registers per Block',\n",
       "       'Warp Size', 'Maximum Threads per Block', 'Thread Dimension Z',\n",
       "       'Thread Dimension Y', 'Thread Dimension X', 'Grid Size Z',\n",
       "       'Grid Size Y', 'Grid Size X', 'Clock Rate', 'Total Constant Memory',\n",
       "       'Multiprocessor Count', 'integrated', 'Asynchronous Engine Count',\n",
       "       'Memory Bus Width', 'Memory Clock Rate', 'L2 Cache Size',\n",
       "       'Maximum Threads per Multiprocessor', 'Concurrent Kernels', 'float',\n",
       "       'unsigned_int', 'int', 'num_blocks', 'num_grid', 'threads',\n",
       "       'cudaMalloc', 'cudaMemcpy(', 'cudaFree'],\n",
       "      dtype='object')"
      ]
     },
     "execution_count": 9,
     "metadata": {},
     "output_type": "execute_result"
    }
   ],
   "source": [
    "X.columns"
   ]
  },
  {
   "cell_type": "code",
   "execution_count": 32,
   "id": "2d61efc7",
   "metadata": {},
   "outputs": [],
   "source": [
    "sc = RobustScaler()\n",
    "X_scaled = sc.fit_transform(X)"
   ]
  },
  {
   "cell_type": "code",
   "execution_count": 33,
   "id": "eaa2a9d7",
   "metadata": {},
   "outputs": [],
   "source": [
    "X_train, X_val, y_train, y_val = train_test_split(X_scaled, y, test_size = 0.25, random_state = 42)"
   ]
  },
  {
   "cell_type": "code",
   "execution_count": 34,
   "id": "d40693ca",
   "metadata": {},
   "outputs": [],
   "source": [
    "def evaluate_model(model, X_train, y_train, X_val, y_val, metric='R2'):\n",
    "    model.fit(X_train, y_train)\n",
    "    if metric == 'RMSE':\n",
    "        y_pred_train = model.predict(X_train)\n",
    "        print('Training RMSE score = {}'.format(np.sqrt(mean_squared_error(y_train, y_pred_train))))\n",
    "        y_pred = model.predict(X_val)\n",
    "        print('Validation RMSE score = {}'.format(np.sqrt(mean_squared_error(y_val, y_pred))))\n",
    "    else:\n",
    "        print('Training R2 score = {}'.format(model.score(X_train, y_train)))\n",
    "        print('Validation R2 score = {}'.format(model.score(X_val, y_val)))"
   ]
  },
  {
   "cell_type": "code",
   "execution_count": 35,
   "id": "29a8c8b3",
   "metadata": {},
   "outputs": [
    {
     "name": "stdout",
     "output_type": "stream",
     "text": [
      "Training RMSE score = 7.3535396168516405\n",
      "Validation RMSE score = 7.225769878529377\n"
     ]
    }
   ],
   "source": [
    "lr = LinearRegression()\n",
    "evaluate_model(lr, X_train, y_train, X_val, y_val, 'RMSE')"
   ]
  },
  {
   "cell_type": "code",
   "execution_count": 36,
   "id": "e38c6025",
   "metadata": {},
   "outputs": [
    {
     "name": "stdout",
     "output_type": "stream",
     "text": [
      "Training RMSE score = 7.4668483347303125\n",
      "Validation RMSE score = 7.3276852954387826\n"
     ]
    }
   ],
   "source": [
    "lasso = Lasso()\n",
    "evaluate_model(lasso, X_train, y_train, X_val, y_val, 'RMSE')"
   ]
  },
  {
   "cell_type": "code",
   "execution_count": 37,
   "id": "3391f016",
   "metadata": {},
   "outputs": [
    {
     "name": "stdout",
     "output_type": "stream",
     "text": [
      "Training RMSE score = 7.353539690206726\n",
      "Validation RMSE score = 7.225759864391926\n"
     ]
    }
   ],
   "source": [
    "ridge = Ridge()\n",
    "evaluate_model(ridge, X_train, y_train, X_val, y_val, 'RMSE')"
   ]
  },
  {
   "cell_type": "code",
   "execution_count": 42,
   "id": "1ecfa10e",
   "metadata": {},
   "outputs": [
    {
     "name": "stdout",
     "output_type": "stream",
     "text": [
      "Training RMSE score = 4.9766767837968535\n",
      "Validation RMSE score = 4.973092750677678\n"
     ]
    }
   ],
   "source": [
    "svr = SVR()\n",
    "evaluate_model(svr, X_train, y_train, X_val, y_val, 'RMSE')"
   ]
  },
  {
   "cell_type": "code",
   "execution_count": 43,
   "id": "bfb5454e",
   "metadata": {},
   "outputs": [
    {
     "name": "stdout",
     "output_type": "stream",
     "text": [
      "Training RMSE score = 8.076008070318382\n",
      "Validation RMSE score = 7.934653659742238\n"
     ]
    },
    {
     "name": "stderr",
     "output_type": "stream",
     "text": [
      "/opt/homebrew/Caskroom/miniforge/base/envs/ml_env/lib/python3.9/site-packages/sklearn/svm/_base.py:1206: ConvergenceWarning: Liblinear failed to converge, increase the number of iterations.\n",
      "  warnings.warn(\n"
     ]
    }
   ],
   "source": [
    "lsvr = LinearSVR()\n",
    "evaluate_model(lsvr, X_train, y_train, X_val, y_val, 'RMSE')"
   ]
  },
  {
   "cell_type": "code",
   "execution_count": null,
   "id": "bdda3f63",
   "metadata": {},
   "outputs": [],
   "source": []
  }
 ],
 "metadata": {
  "kernelspec": {
   "display_name": "Python 3 (ipykernel)",
   "language": "python",
   "name": "python3"
  },
  "language_info": {
   "codemirror_mode": {
    "name": "ipython",
    "version": 3
   },
   "file_extension": ".py",
   "mimetype": "text/x-python",
   "name": "python",
   "nbconvert_exporter": "python",
   "pygments_lexer": "ipython3",
   "version": "3.9.10"
  }
 },
 "nbformat": 4,
 "nbformat_minor": 5
}
